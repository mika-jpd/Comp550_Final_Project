{
  "cells": [
    {
      "cell_type": "markdown",
      "metadata": {
        "id": "uLFp9bM7xenz"
      },
      "source": [
        "Logistic Regression Model. Has Glove, N-gram, and TFIDF model options. Just commment out each section. "
      ]
    },
    {
      "cell_type": "code",
      "execution_count": null,
      "metadata": {
        "colab": {
          "base_uri": "https://localhost:8080/"
        },
        "id": "PYJ8oOW2nI49",
        "outputId": "886231ed-dee7-47d1-9ea7-5664218de20e"
      },
      "outputs": [
        {
          "output_type": "stream",
          "name": "stdout",
          "text": [
            "[nltk_data] Downloading package punkt to /root/nltk_data...\n",
            "[nltk_data]   Unzipping tokenizers/punkt.zip.\n"
          ]
        }
      ],
      "source": [
        "import numpy as np\n",
        "import nltk\n",
        "nltk.download('punkt')\n",
        "from nltk.corpus import wordnet\n",
        "import string\n",
        "from sklearn.linear_model import LogisticRegression\n",
        "from sklearn.feature_extraction.text import CountVectorizer\n",
        "from sklearn.metrics import accuracy_score\n",
        "from sklearn.model_selection import train_test_split\n",
        "from nltk.corpus import stopwords\n",
        "from nltk.tokenize import word_tokenize\n",
        "from nltk.util import ngrams\n",
        "from sklearn.feature_extraction.text import TfidfVectorizer\n",
        "from sklearn.naive_bayes import GaussianNB\n",
        "from gensim.models import KeyedVectors\n",
        "from gensim.scripts.glove2word2vec import glove2word2vec\n",
        "import os\n",
        "from sklearn.metrics import f1_score\n",
        "import random\n",
        "import matplotlib.pyplot as plt"
      ]
    },
    {
      "cell_type": "markdown",
      "metadata": {
        "id": "Bp8wgi-OnQlJ"
      },
      "source": [
        "PREPROCESSING FUNCTIONS"
      ]
    },
    {
      "cell_type": "code",
      "execution_count": null,
      "metadata": {
        "id": "uh74_obnuqwL",
        "colab": {
          "base_uri": "https://localhost:8080/"
        },
        "outputId": "8dea5127-4038-40c1-b140-30d1f4ca61b0"
      },
      "outputs": [
        {
          "output_type": "stream",
          "name": "stdout",
          "text": [
            "[nltk_data] Downloading package averaged_perceptron_tagger to\n",
            "[nltk_data]     /root/nltk_data...\n",
            "[nltk_data]   Unzipping taggers/averaged_perceptron_tagger.zip.\n",
            "[nltk_data] Downloading package wordnet to /root/nltk_data...\n",
            "[nltk_data]   Unzipping corpora/wordnet.zip.\n",
            "[nltk_data] Downloading package stopwords to /root/nltk_data...\n",
            "[nltk_data]   Unzipping corpora/stopwords.zip.\n",
            "[nltk_data] Downloading package wordnet to /root/nltk_data...\n",
            "[nltk_data]   Package wordnet is already up-to-date!\n"
          ]
        },
        {
          "output_type": "execute_result",
          "data": {
            "text/plain": [
              "True"
            ]
          },
          "metadata": {},
          "execution_count": 2
        }
      ],
      "source": [
        "nltk.download(\"averaged_perceptron_tagger\")\n",
        "nltk.download(\"wordnet\")\n",
        "lemmatizer = nltk.WordNetLemmatizer()\n",
        "\n",
        "nltk.download('stopwords')\n",
        "stop_words = set(stopwords.words('english'))\n",
        "from nltk.stem import WordNetLemmatizer\n",
        "wordnet_lemmatizer = WordNetLemmatizer()\n",
        "nltk.download('wordnet')"
      ]
    },
    {
      "cell_type": "code",
      "execution_count": null,
      "metadata": {
        "id": "7reDCazQoW3L"
      },
      "outputs": [],
      "source": [
        "def lemmatizer(text):\n",
        "  lemm_text = []\n",
        "  for word in text:\n",
        "    lemm_text.append(wordnet_lemmatizer.lemmatize(word))\n",
        "  return lemm_text\n",
        "def lemmatizer_dataset(dataset):\n",
        "  lemm_text = []\n",
        "  for review in dataset:\n",
        "    words = word_tokenize(review)\n",
        "    lemm_text.append(' '.join(lemmatizer(words)))\n",
        "  return lemm_text"
      ]
    },
    {
      "cell_type": "code",
      "execution_count": null,
      "metadata": {
        "id": "N8MBVRy3nqkZ"
      },
      "outputs": [],
      "source": [
        "def lowerCase(StringArray):\n",
        "    lowerArray = []\n",
        "    for i in StringArray:\n",
        "        lowerArray.append(i.lower())\n",
        "    return lowerArray"
      ]
    },
    {
      "cell_type": "code",
      "execution_count": null,
      "metadata": {
        "id": "0KV2X8UOntST"
      },
      "outputs": [],
      "source": [
        "def depunctuate(StringArray):\n",
        "    exclude = set(string.punctuation)\n",
        "    depStringArray = []\n",
        "    for i in StringArray:\n",
        "        s = ''.join(ch for ch in i if ch not in exclude)\n",
        "        depStringArray.append(s)\n",
        "    return depStringArray"
      ]
    },
    {
      "cell_type": "code",
      "execution_count": null,
      "metadata": {
        "id": "uu40nNV2nxiV"
      },
      "outputs": [],
      "source": [
        "def splitData(Div, StringArray, Labels):\n",
        "    splitArray = []\n",
        "    for i, x in enumerate(StringArray):\n",
        "        if Labels[i] == Div:\n",
        "            splitArray.append(x)\n",
        "    return splitArray"
      ]
    },
    {
      "cell_type": "code",
      "execution_count": null,
      "metadata": {
        "id": "ni7-WiMIn2Hi"
      },
      "outputs": [],
      "source": [
        "def removeStop(StringArray):\n",
        "  filtered_sentences = []\n",
        "  for sample in StringArray:\n",
        "    words = word_tokenize(sample)\n",
        "    filtered_words = []\n",
        "    for word in words:\n",
        "      if word not in stop_words:\n",
        "        filtered_words.append(word)\n",
        "    filtered_sentences.append(' '.join(filtered_words))\n",
        "  return filtered_sentences"
      ]
    },
    {
      "cell_type": "markdown",
      "metadata": {
        "id": "A3gnEMGSOk8i"
      },
      "source": [
        "I forgot to remove this Ngram functino cause we don't actually use it. We just use the direct implementation in the vectorizer. We can keep it for now just in case"
      ]
    },
    {
      "cell_type": "code",
      "execution_count": null,
      "metadata": {
        "id": "hWCQqlF7oJjC"
      },
      "outputs": [],
      "source": [
        "def Lemma(Dtrain):\n",
        "    \n",
        "    tokensArray = []\n",
        "    for i in Dtrain:\n",
        "        tokensArray.append(word_tokenize(i))\n",
        "    Lemmatized = []\n",
        "    for k, s in enumerate(tokensArray):\n",
        "        Sentence = []\n",
        "        for w in s:\n",
        "            Sentence.append(lemmatizer.lemmatize(w, get_wordnet_pos(w)))\n",
        "            NTsentence = (\" \").join(Sentence)\n",
        "        Lemmatized.append(NTsentence)\n",
        "    return Lemmatized"
      ]
    },
    {
      "cell_type": "code",
      "execution_count": null,
      "metadata": {
        "id": "-m15iEPMoV8C"
      },
      "outputs": [],
      "source": [
        "def get_wordnet_pos(word):\n",
        "    \"\"\"Map POS tag to first character lemmatize() accepts\"\"\"\n",
        "    tag = nltk.pos_tag([word])[0][1][0].upper()\n",
        "    tag_dict = {\"J\": wordnet.ADJ,\n",
        "                \"N\": wordnet.NOUN,\n",
        "                \"V\": wordnet.VERB,\n",
        "                \"R\": wordnet.ADV}\n",
        "\n",
        "    return tag_dict.get(tag, wordnet.NOUN)"
      ]
    },
    {
      "cell_type": "markdown",
      "metadata": {
        "id": "wSGOT8M3sgCP"
      },
      "source": [
        "WORD2VEC VECTORIZER CLASS"
      ]
    },
    {
      "cell_type": "code",
      "execution_count": null,
      "metadata": {
        "id": "VxqHQzzQpjXb"
      },
      "outputs": [],
      "source": [
        "class Word2VecVectorizer:\n",
        "  def __init__(self, model):\n",
        "    print(\"Loading in word vectors...\")\n",
        "    self.word_vectors = model\n",
        "    print(\"Finished loading in word vectors\")\n",
        "\n",
        "  def fit(self, data):\n",
        "    pass\n",
        "\n",
        "  def transform(self, data):\n",
        "    # determine the dimensionality of vectors\n",
        "    v = self.word_vectors.get_vector('king')\n",
        "    self.D = v.shape[0]\n",
        "\n",
        "    X = np.zeros((len(data), self.D))\n",
        "    n = 0\n",
        "    emptycount = 0\n",
        "    for sentence in data:\n",
        "      tokens = sentence.split()\n",
        "      vecs = []\n",
        "      m = 0\n",
        "      for word in tokens:\n",
        "        try:\n",
        "          # throws KeyError if word not found\n",
        "          vec = self.word_vectors.get_vector(word)\n",
        "          vecs.append(vec)\n",
        "          m += 1\n",
        "        except KeyError:\n",
        "          pass\n",
        "      if len(vecs) > 0:\n",
        "        vecs = np.array(vecs)\n",
        "        X[n] = vecs.mean(axis=0)\n",
        "      else:\n",
        "        emptycount += 1\n",
        "      n += 1\n",
        "    print(\"Numer of samples with no words found: %s / %s\" % (emptycount, len(data)))\n",
        "    return X\n",
        "\n",
        "\n",
        "  def fit_transform(self, data):\n",
        "    self.fit(data)\n",
        "    return self.transform(data)"
      ]
    },
    {
      "cell_type": "code",
      "execution_count": null,
      "metadata": {
        "id": "MF_NShf4pZ5W"
      },
      "outputs": [],
      "source": [
        "def sentenceAvg(sentence, wordVectorMap):\n",
        "    words = sentence.lower().split()\n",
        "    avg = np.zeros(50)\n",
        "    for w in words:\n",
        "        if w in wordVectorMap:\n",
        "            avg+= wordVectorMap[w]\n",
        "    avg = avg/ len(words)\n",
        "    return avg"
      ]
    },
    {
      "cell_type": "code",
      "execution_count": null,
      "metadata": {
        "id": "_QqQrDt4pamC"
      },
      "outputs": [],
      "source": [
        "def read_glove_vecs(glove_file):\n",
        "    with open(glove_file, encoding=\"utf8\") as f:\n",
        "        words = set()\n",
        "        word_to_vec_map = {}\n",
        "        for line in f:\n",
        "            line = line.strip().split()\n",
        "            curr_word = line[0]\n",
        "            words.add(curr_word)\n",
        "            word_to_vec_map[curr_word] = np.array(line[1:], dtype=np.float64)\n",
        "\n",
        "        i = 1\n",
        "        words_to_index = {}\n",
        "        index_to_words = {}\n",
        "        for w in sorted(words):\n",
        "            words_to_index[w] = i\n",
        "            index_to_words[i] = w\n",
        "            i = i + 1\n",
        "    return words_to_index, index_to_words, word_to_vec_map"
      ]
    },
    {
      "cell_type": "code",
      "execution_count": null,
      "metadata": {
        "id": "wfOPcxZwJJvP"
      },
      "outputs": [],
      "source": [
        "def checkUnique(n, randomList):\n",
        "    for i in randomList:\n",
        "        if n  == i:\n",
        "            return False\n",
        "    return True"
      ]
    },
    {
      "cell_type": "code",
      "execution_count": null,
      "metadata": {
        "id": "Hg4eYea8YPiz"
      },
      "outputs": [],
      "source": [
        "def ScaleTrainSet(Xtrain, Ytrain, scale):\n",
        "    randomlist = []\n",
        "    for i in range(1, scale):\n",
        "        n = random.randint(1, len(Xtrain)-1)\n",
        "        while (checkUnique(n, randomlist) == False):\n",
        "            n = random.randint(1, len(Xtrain)-1)\n",
        "        randomlist.append(n)\n",
        "    XtrainScaled = []\n",
        "    YtrainScaled = []\n",
        "    for i in randomlist:\n",
        "        XtrainScaled.append(Xtrain[i])\n",
        "        YtrainScaled.append(Ytrain[i])\n",
        "    return XtrainScaled, YtrainScaled"
      ]
    },
    {
      "cell_type": "markdown",
      "metadata": {
        "id": "mY8VstmmsMrb"
      },
      "source": [
        "NGRAM MODEL USED FOR LOGISTIC REGRESSION"
      ]
    },
    {
      "cell_type": "code",
      "execution_count": null,
      "metadata": {
        "id": "C1nx8VOlorqz"
      },
      "outputs": [],
      "source": [
        "def NgramModel(Dtrain, Dlabels, iter, TrainSize):\n",
        "    BestX = []\n",
        "    bestPred = 0\n",
        "    DtrainPos = splitData(1, Dtrain, Dlabels)\n",
        "    DtrainNeg = splitData(0, Dtrain, Dlabels)\n",
        "    ### Converting for LR input ###\n",
        "    Dtrain = np.concatenate((np.array(DtrainPos), np.array(DtrainNeg)), axis=0)\n",
        "    Dtrain = Dtrain.tolist()\n",
        "    vectorizer1 = CountVectorizer(ngram_range=(1, 5))\n",
        "    vectorizer1 = CountVectorizer()\n",
        "    AvgScore = 0\n",
        "    for i in range(iter):\n",
        "        vectorizer1.fit(Dtrain)\n",
        "        vector1 = vectorizer1.transform(Dtrain)\n",
        "        X = vector1.toarray()\n",
        "        Xtrain, Xtest, Ytrain, Ytest = train_test_split(X, [1] * len(DtrainPos) + [0] * len(DtrainNeg), test_size=0.20)\n",
        "        Xtrain, Ytrain = ScaleTrainSet(Xtrain, Ytrain, TrainSize)\n",
        "        ### LR Model ###\n",
        "        clf = LogisticRegression(random_state=0, max_iter=10000).fit(Xtrain, Ytrain)\n",
        "        y_pred = clf.predict(Xtest)\n",
        "        predScore = f1_score(y_pred, Ytest)\n",
        "        AvgScore =  AvgScore + predScore\n",
        "        #predScore = accuracy_score(y_pred, Ytest)\n",
        "        \n",
        "        if predScore > bestPred:\n",
        "            bestPred = predScore\n",
        "            BestX = [Xtrain, Xtest, Ytrain, Ytest] \n",
        "            #print('Logistic Regression F1 Score: %s' % f1_score(y_pred, Ytest))\n",
        "            #print('Logistic Regression accuracy: %s' % accuracy_score(y_pred, Ytest))\n",
        "    AvgScore = AvgScore/iter\n",
        "    return BestX[0],BestX[1],BestX[2],BestX[3], AvgScore"
      ]
    },
    {
      "cell_type": "code",
      "execution_count": null,
      "metadata": {
        "id": "kHwJQwQ0l9eX"
      },
      "outputs": [],
      "source": [
        "def GloveModel(Dtrain, Dlabels, model, iter, TrainSize):\n",
        "    BestX = []\n",
        "    bestPred = 0\n",
        "    DtrainPos = splitData(1, Dtrain, Dlabels)\n",
        "    DtrainNeg = splitData(0, Dtrain, Dlabels)\n",
        "    Dtrain = np.concatenate((np.array(DtrainPos), np.array(DtrainNeg)), axis=0)\n",
        "    Dtrain = Dtrain.tolist() \n",
        "          ## Glove ###\n",
        "    word_to_index, index_to_word, word_to_vec_map = read_glove_vecs(\"/content/drive/MyDrive/COMP550 Final Project/glove.6B.50d.txt\")\n",
        "    vectorizer = Word2VecVectorizer(model) #### Creating Vectorizer i.e converting word embeddings to LR input\n",
        "\n",
        "    AvgScore = 0\n",
        "    for i in range(iter):\n",
        "      Xtrain, Xtest, Ytrain, Ytest = train_test_split(Dtrain, [1] * len(DtrainPos) + [0] * len(DtrainNeg), test_size=0.20)\n",
        "      # Sentence Averaging\n",
        "      for i, sent in enumerate(Xtrain):\n",
        "        avg = sentenceAvg(sent, word_to_vec_map)\n",
        "        #print(avg)\n",
        "        Xtrain[i] = avg\n",
        "\n",
        "  # Get the sentence embeddings for the test dataset\n",
        "      Xtest = vectorizer.transform(Xtest)\n",
        "  ### Converting for LR input ###\n",
        "      ### Scaling to TrainingSets to TrainSize\n",
        "      Xtrain, Ytrain = ScaleTrainSet(Xtrain, Ytrain, TrainSize)\n",
        "      ### LR Model ###\n",
        "      for x in Xtrain:\n",
        "        x = x[np.logical_not(np.isnan(x))]\n",
        "      clf = LogisticRegression(random_state=0, max_iter=10000).fit(Xtrain, Ytrain)\n",
        "      y_pred = clf.predict(Xtest)\n",
        "      predScore = f1_score(y_pred, Ytest)\n",
        "      AvgScore =  AvgScore + predScore\n",
        "      #predScore = accuracy_score(y_pred, Ytest)\n",
        "      \n",
        "      if predScore > bestPred: ### Don't really need this for what we do but if you wan't to find the best Xtrain Split this will give it to you\n",
        "          bestPred = predScore\n",
        "          BestX = [Xtrain, Xtest, Ytrain, Ytest] \n",
        "          #print('Logistic Regression F1 Score: %s' % f1_score(y_pred, Ytest))\n",
        "          #print('Logistic Regression accuracy: %s' % accuracy_score(y_pred, Ytest))\n",
        "    AvgScore = AvgScore/iter\n",
        "    return BestX[0],BestX[1],BestX[2],BestX[3], AvgScore\n",
        "    "
      ]
    },
    {
      "cell_type": "markdown",
      "metadata": {
        "id": "sMpB1ezDsTmk"
      },
      "source": [
        "TFIDF MODEL USED FOR LOGISTIC REGRESSION"
      ]
    },
    {
      "cell_type": "code",
      "execution_count": null,
      "metadata": {
        "id": "kP6k2eVqovPb"
      },
      "outputs": [],
      "source": [
        "def tfidfModel(Dtrain, Dlabels, iter, TrainSize): \n",
        "    BestX = []\n",
        "    bestPred = 0\n",
        "    DtrainPos = splitData(1, Dtrain, Dlabels)\n",
        "    DtrainNeg = splitData(0, Dtrain, Dlabels)\n",
        "    ### Converting for LR input ###\n",
        "    Dtrain = np.concatenate((np.array(DtrainPos), np.array(DtrainNeg)), axis=0)\n",
        "    Dtrain = Dtrain.tolist()\n",
        "    tf_idf = TfidfVectorizer()\n",
        "    tf_idf.fit(Dtrain)\n",
        "    vector = tf_idf.transform(Dtrain)\n",
        "    X = vector.toarray()\n",
        "    AvgScore = 0\n",
        "    for i in range(iter):\n",
        " \n",
        "        Xtrain, Xtest, Ytrain, Ytest = train_test_split(X, [1] * len(DtrainPos) + [0] * len(DtrainNeg), test_size=0.20)\n",
        "        Xtrain, Ytrain = ScaleTrainSet(Xtrain, Ytrain, TrainSize)\n",
        "        ### LR Model ###\n",
        "        clf = LogisticRegression(random_state=0, max_iter=10000).fit(Xtrain, Ytrain)\n",
        "        y_pred = clf.predict(Xtest)\n",
        "        #predScore = accuracy_score(y_pred, Ytest)\n",
        "        predScore = f1_score(y_pred, Ytest)\n",
        "        AvgScore =  AvgScore + predScore\n",
        "\n",
        "        # print('Accuracy: %s' % accuracy_score(y_pred, Ytest))\n",
        "        if predScore > bestPred:\n",
        "            bestPred = predScore\n",
        "            BestX = [Xtrain, Xtest, Ytrain, Ytest]\n",
        "            #print('Logistic Regression F1 Score: %s' % f1_score(y_pred, Ytest))\n",
        "            #print('Logistic Regression accuracy: %s' % accuracy_score(y_pred, Ytest))\n",
        "    AvgScore = AvgScore/iter\n",
        "    return BestX[0],BestX[1],BestX[2],BestX[3], AvgScore"
      ]
    },
    {
      "cell_type": "markdown",
      "metadata": {
        "id": "k6F53tfMshOo"
      },
      "source": [
        "MAIN METHOD FOR RUNNING LINEAR REGRESSION "
      ]
    },
    {
      "cell_type": "code",
      "execution_count": null,
      "metadata": {
        "id": "ZxFSl3hmclsZ"
      },
      "outputs": [],
      "source": [
        "import pandas as pd"
      ]
    },
    {
      "cell_type": "code",
      "execution_count": null,
      "metadata": {
        "id": "qENNshTGceD5",
        "colab": {
          "base_uri": "https://localhost:8080/",
          "height": 217
        },
        "outputId": "fe69cda9-5561-4967-c38a-3627abaa01ee"
      },
      "outputs": [
        {
          "output_type": "error",
          "ename": "NameError",
          "evalue": "ignored",
          "traceback": [
            "\u001b[0;31m---------------------------------------------------------------------------\u001b[0m",
            "\u001b[0;31mNameError\u001b[0m                                 Traceback (most recent call last)",
            "\u001b[0;32m<ipython-input-17-64c14ad19682>\u001b[0m in \u001b[0;36m<module>\u001b[0;34m()\u001b[0m\n\u001b[1;32m      1\u001b[0m \u001b[0mpath_data\u001b[0m \u001b[0;34m=\u001b[0m \u001b[0;34m\"/content/drive/MyDrive/COMP550 Final Project/IMDB.csv\"\u001b[0m\u001b[0;34m\u001b[0m\u001b[0;34m\u001b[0m\u001b[0m\n\u001b[0;32m----> 2\u001b[0;31m \u001b[0mdf\u001b[0m \u001b[0;34m=\u001b[0m \u001b[0mpd\u001b[0m\u001b[0;34m.\u001b[0m\u001b[0mread_csv\u001b[0m\u001b[0;34m(\u001b[0m\u001b[0mpath_data\u001b[0m\u001b[0;34m)\u001b[0m\u001b[0;34m\u001b[0m\u001b[0;34m\u001b[0m\u001b[0m\n\u001b[0m\u001b[1;32m      3\u001b[0m \u001b[0mY\u001b[0m \u001b[0;34m=\u001b[0m \u001b[0mpd\u001b[0m\u001b[0;34m.\u001b[0m\u001b[0mSeries\u001b[0m\u001b[0;34m.\u001b[0m\u001b[0mto_numpy\u001b[0m\u001b[0;34m(\u001b[0m\u001b[0mdf\u001b[0m\u001b[0;34m[\u001b[0m\u001b[0;34m'Label'\u001b[0m\u001b[0;34m]\u001b[0m\u001b[0;34m)\u001b[0m\u001b[0;34m\u001b[0m\u001b[0;34m\u001b[0m\u001b[0m\n\u001b[1;32m      4\u001b[0m \u001b[0mX\u001b[0m \u001b[0;34m=\u001b[0m \u001b[0mpd\u001b[0m\u001b[0;34m.\u001b[0m\u001b[0mSeries\u001b[0m\u001b[0;34m.\u001b[0m\u001b[0mto_numpy\u001b[0m\u001b[0;34m(\u001b[0m\u001b[0mdf\u001b[0m\u001b[0;34m[\u001b[0m\u001b[0;34m'Sentences'\u001b[0m\u001b[0;34m]\u001b[0m\u001b[0;34m)\u001b[0m\u001b[0;34m\u001b[0m\u001b[0;34m\u001b[0m\u001b[0m\n",
            "\u001b[0;31mNameError\u001b[0m: name 'pd' is not defined"
          ]
        }
      ],
      "source": [
        "path_data = \"/content/drive/MyDrive/COMP550 Final Project/IMDB.csv\"\n",
        "df = pd.read_csv(path_data)\n",
        "Y = pd.Series.to_numpy(df['Label'])\n",
        "X = pd.Series.to_numpy(df['Sentences'])"
      ]
    },
    {
      "cell_type": "code",
      "execution_count": null,
      "metadata": {
        "id": "Bbv6GbiMuACj"
      },
      "outputs": [],
      "source": [
        "index = 0\n",
        "split = 16\n",
        "Dlabels = []\n",
        "Dtrain = []\n",
        "for sentence in X:\n",
        "  if index % split == 0:\n",
        "    Dtrain.append(sentence)\n",
        "    Dlabels.append(Y[index])\n",
        "  index +=1"
      ]
    },
    {
      "cell_type": "code",
      "execution_count": null,
      "metadata": {
        "colab": {
          "base_uri": "https://localhost:8080/"
        },
        "id": "Q9mtxfCOvD7y",
        "outputId": "d6a61375-c256-45c2-ee81-e2d943c436d2"
      },
      "outputs": [
        {
          "name": "stdout",
          "output_type": "stream",
          "text": [
            "3125\n"
          ]
        }
      ],
      "source": [
        "print(len(Dlabels))"
      ]
    },
    {
      "cell_type": "code",
      "execution_count": null,
      "metadata": {
        "id": "xpAJ97bcdBHn"
      },
      "outputs": [],
      "source": [
        "Dtrain = open(\"/content/drive/MyDrive/COMP550 Final Project/TrainingData.txt\")\n",
        "Dlabels = open(\"/content/drive/MyDrive/COMP550 Final Project/TrainingLabels.txt\")\n",
        "Dlabels= np.loadtxt(Dlabels, delimiter=\"\\n\")\n"
      ]
    },
    {
      "cell_type": "markdown",
      "metadata": {
        "id": "DheiLHVjltHa"
      },
      "source": [
        "Calling Preprocessing"
      ]
    },
    {
      "cell_type": "code",
      "execution_count": null,
      "metadata": {
        "id": "2e6E2CmglsbC",
        "colab": {
          "base_uri": "https://localhost:8080/"
        },
        "outputId": "8c7263bb-f555-42a6-bd6e-6ab2d2aeac11"
      },
      "outputs": [
        {
          "output_type": "stream",
          "name": "stdout",
          "text": [
            "0.5488126649076517\n"
          ]
        }
      ],
      "source": [
        "  # load the Stanford GloVe model\n",
        "count1 = 0\n",
        "\n",
        "for i in Dlabels:\n",
        "    if(i == 1):\n",
        "      count1 = count1+1\n",
        "print(count1/len(Dlabels))\n",
        "### Seting up Glove ###\n",
        "glove_filename = 'glove.6B.50d.txt'\n",
        "# Variable for data directory\n",
        "glove_path = '/content/drive/MyDrive/COMP550 Final Project/glove.6B.50d.txt'\n",
        "word2vec_output_file = glove_filename + '.word2vec'\n",
        "glove2word2vec(glove_path, word2vec_output_file)\n",
        "model = KeyedVectors.load_word2vec_format(word2vec_output_file, binary=False)\n",
        "######### Preprocessing Steps ##############\n",
        "\n",
        "        ### Convert to Lower Case ###\n",
        "Dtrain = lowerCase(Dtrain)\n",
        "        ### Depunctuating ###\n",
        "Dtrain = depunctuate(Dtrain)\n",
        "DtrainGlove = Dtrain ### don't want to remove stop words etc\n",
        "        ### Removing Stopwords ###\n",
        "Dtrain  = removeStop(Dtrain)  ###Btw might be fixable but this thing takes ages!\n",
        "        ### Lemmatizing ###\n",
        "Dtrain = lemmatizer_dataset(Dtrain)\n",
        "                                                                #Dtrain  = Lemma(Dtrain) \n",
        "#print(Dtrain)"
      ]
    },
    {
      "cell_type": "markdown",
      "metadata": {
        "id": "Wlipu-MMxsM2"
      },
      "source": [
        "LOGISTIC REGRESSION TESTING"
      ]
    },
    {
      "cell_type": "code",
      "execution_count": null,
      "metadata": {
        "colab": {
          "base_uri": "https://localhost:8080/"
        },
        "id": "uwAnsNFR0G1k",
        "outputId": "96a0d964-3027-4498-fe71-8d764bab8a7d"
      },
      "outputs": [
        {
          "output_type": "stream",
          "name": "stdout",
          "text": [
            "['woman good', 'dress sexy sign contract', 'period', 'stop bitchy', 'leave early child instead husband', 'thank quota', 'would never get job woman', 'woman thing', 'emotional', 'wear dress', 'wear skirt', 'high heel mandatory', 'act like girl think like man', 'woman empowerment begin home', 'planning child', 'youre still married', 'marry later better career', 'feminist', 'high position better suit men', 'fault woman', 'woman take care running home', 'leave running company men', 'woman problem', 'kiss would shame deprive', 'ill explain simple word understand', 'know hired', 'dont worry husband making good living', 'fortunately earn boyfriend', 'youre pregnant thought motivated', 'recruited new commercial nice woman', 'man project absolutely want woman asking', 'try promote woman although file technical', 'feel able take task', 'wont go get u coffee', 'patriarchal company', 'weakness woman issue', 'work men', 'woman homemaker', 'men made work hard woman homemaker', 'men speaker woman writer', 'want job think like man', 'woman learn slowly', 'applied woman', 'woman much sensitive men', 'woman always get upset men', 'please miss nice bring u coffee', 'fault shes woman', 'career get pregnant', 'job lady gentleman', 'aesthetic job reserved woman', 'let take care woman thing', 'mom side talking', 'strong enough', 'men thing', 'soured woman need man life', 'course would pick man woman would likely get pregnant leave', 'man talk', 'iâ€™m sure know lot cleaningâ€™', 'reason would boardroom bringing u tea', 'think boy ultimately easier girl', 'love woman movement especially walking behind', 'make sure wear low cut top meet client', 'wonâ€™t want work machine might break fingernail', 'couldnâ€™t take seriously presentation see wearing', 'must make sandwich', 'nice finally something look meeting', 'oh good girl', 'woman bossy', 'say boy boy', 'meeting working bitching seriously guy', 'jenny stop bitch', 'didnt hear biggest bitch around', 'look like cow', 'know sherry still cunt', 'nora amazing future working think role wicked step mother need age bit', 'wow sheila nasty piece work isnt', 'seem angry hormonal', 'youre especially testy today period', 'wrong period', 'sucking math logic requirement woman', 'seem like nice girl ask dig little deeper document actually say', 'think jaw head kinda shaped like home plate carry baseball motif', 'probably going piss feminist', 'youd expect low iq', 'call sexist think woman seriously lacking knowledge', 'men dont belong kitchen', 'im sorry girl really unfunny', 'actually prefer guy charge atmosphere laid back fun woman serious', 'commit man commit gym well commit kitchen', 'woman seriously awful driver', 'woman damn stubborn', 'blond want', 'woman easily confused', 'im sexist im realist', 'female manager think god greatest creation way power hungry', 'isnt sexist youre right', 'dont think woman make tough decision', 'im sexist sexism wrong im man im never wrong', 'prefer male voice female voice sound normal', 'believe youre either woman gay', 'like pickle like woman thin cut', 'want intelligent hang men', 'woman cant park', 'mean disrespect woman much difficult manage men', 'history show u empire fall woman take control', 'believe men woman role house', 'guy better woman everything sexist competitive hell', 'woman accounting bitchy', 'woman always see thing want instead reality', 'want equality learn pull im woman card', 'hate rich snobby woman dont know place front men', 'dont get wrong im sexist seeing female engineer site weird', 'female already equal right stop complaining', 'wow went zero cunt eight second', 'majority girl useless group project', 'think ashley know way around hq well around lloyd jock', 'melissa shouldnt talk economics thats like talking new designer purse something', 'say certainty havent intelligent conversation female thirty', 'woman allowed opinion', 'think get promotion look alone', 'sorry believe certain gender role come marriage', 'report look like made five year old little girl', 'new girl think way highly theyre even attractive', 'invited miss hottie', 'le day without woman day without feminist quite honest sound lovely', 'ill pas day without woman real woman dont abandon responsibility', 'youve got strong grip girl', 'party like man love like woman', 'nice day today nice quiet road clear mustve day without woman', 'look like girl act like lady think like man work like dog', 'youre woman dont equate shit bc arent man cant anything good man ever', 'real woman dont go along day without woman crap fake cause manufactured manhating feminist lesbian stop', 'know youre pretty smart girl', 'good wife know doesnt matter managerial job long best man job', 'man would worded sentence twice good', 'dont care hard think cant act like man one respect', 'figured tough enough take like man guess', 'think like man act like lady', 'woman isnt worth damn unless kick as like man', 'personally think woman shouldnt play soccer drive truck elegant', 'predominantly male work place good equates like man', 'act like man else', 'well im dumb cant understand walk like woman talk like man', 'here advice woman think like man act like woman', 'look like man', 'woman territorial kitchen kinda like man garage', 'time get walk like man', 'marriage ultimate happiness girl', 'im female chauvinist modern era good man judged one pay bill good woman one cook', 'woman physically incapable good job man many industry basic anatomy', 'wow youre really tall girl howd get tall baby', 'bitch worried thinking like man dont know woman', 'elegant beautiful cheap trashy nothing unattractive girl banging hot hey', 'melting didnt put freezer served dumb skank', 'stop looking nikkis dreadful black crooked bra', 'trying find something pretty blonde idiot', 'know walk go girl one foot front', 'stick day job girl', 'katie nikki definitely proved theyre dumb blonde pretty face theyre dumb blonde', 'yes get youre pretty tone self promo cook', 'starting act look like couple b grade hooker', 'sorry jessie real cunt youre', 'katies fatty', 'saved cause want bang', 'get blonde', 'ah girl dumb really believe pretty face', 'want slap stupid bimbo', 'colin pretty nice girl think he giving dick', 'dont know whats bigger forehead as', 'hate blonde bitch already', 'really bitch really get runway back kitchen', 'dumb bitch', 'put bra nikki dumb slut', 'girl need go vanity making ill unattractive', 'wonder blonde moll screwed manager get job probably', 'sassy halfway slut classy', 'girl really put as sas', 'suck whore', 'sleep night cathy cunt', 'may bitch let honest blonde werent far behind', 'seriously nikki keep arm hide bingo wing back flab', 'stop smirking vile bitch', 'cough slut cough', 'love debra eva sheri emilie beautiful soul sheri eva ever kiss', 'sheri dont swallow fine ill drink lot pineapple juice', 'go fuck maddy stupid slut', 'swear fuckin god tianna andre worst ever contestant little bitch', 'jean bit tight tonight danielle', 'call strategic call bitch', 'blonde get cause young suck', 'look like medusa plus ugly personality top', 'bitch right talk fair right celebrate hope crash burn dont deserve', 'practising cooking skill', 'cunt', 'seriously crazy eye staying', 'actually bitch laugh response', 'helena awful bitch', 'shes wicked witch west', 'im going miss resting bitch face', 'kate stupid woman', 'must suck able reach potential life must youre woman', 'didnt realize supposed treat child whose opinion irrelevant sorry bad', 'know look girl rape', 'realized selfish hypocrisy crux modern feminism equality', 'know little told thought smiling face hypocrisy misandry epitomized modern feminism', 'say unthinking pussy yawn', 'hate u open door hot chick ugly friend want u keep open bitch open', 'nothing like woman pink tipoff dont angrily reject femininity like well know', 'girl hideous every way', 'mine place woman work call sexist woman rock driller practical', 'im sorry dont see whats hot girl eat like guy call sexist like girl theyre girl', 'call sexist hate female receptionist always give attitude like im reason boyfriend broke', 'seriously youre female need able cook dna', 'think men better comedian', 'thing woman help man build relationship', 'woman familiarise pot way man heart stomach', 'need get back kitchen ask', 'seems like female never valid opinion come sport', 'girl wear type tight clothing', 'believe woman tendency impractical men', 'woman take serious theyre angry mom grandma', 'chance hell im letting girl beat anything sorry', 'never ever take direction woman', 'people work childish run woman woman dont agree something oh man', 'id scared woman running country woman nice', 'double standard there certain rule dude there certain rule female', 'best time worst time amazing tit got ta say', 'best part woman body hand simply make sandwich clean shit', 'must admit woman belong kitchen joke worth chuckle', 'woman talk three time men', 'ill probably get trouble woman werent designed created alone', 'hope single broad try swerve woman ultimate position man', 'every girl crazy exception', 'female recognise final spin washing machine full clothes', 'like female engineering teacher', 'cant work 5 female manager time anymore', 'stand woman commentator', 'im getting little tired female announcer', 'feel men woman appropriate role life', 'lot female lack true logic sometimes lot guy dumb though', 'true definition goddess good housewife mother also good health look physique', 'men skill set ability league woman', 'chick arent funny', 'girl dont know form opinion', 'dont think america ready female president', 'far im concerned girl argue stupid', 'girl shouldnt curse', 'whatever girl ive met arent cut working full time', 'ill never vote woman president dont think woman mentally stable enough', 'get bored woman stop making sense sometime especially talking part', 'cant stand working office woman gossip entire time', 'need girl thatll iron shirt call sexist', 'men far civilised debate woman', 'almost purely men raise voice woman end screaming', 'men discussion woman argue', 'dont think men woman equal', 'guy teacher far better teacher girl', 'thing shouldnt said female', 'girl across jungle leg please shave', 'believe woman inferior men', 'woman ruled world would war bunch country wouldnt talk', 'girl bad math know much hair volume volume mascara', 'typical woman sticking nose shouldnt', 'chick shouldnt able say im period dont feel good work', 'feminist annoy shit', 'dont like dealing woman business emotional', 'guy better woman everything sexist competitive hell', 'reminded harshly woman bos truly suck', 'im sexist life there gene woman block rationality', 'note woman surprise competence', 'everyone mother must stop acting like men', 'reason liberal woman liberal date liberal men', 'lot female try think like man avoid getting hurtplayed instead woman take chance love', 'insecure feminist created day without woman', 'without feminist everything', 'nothing like fine woman pretty foot great pair shoe', 'need changed day without third wave feminist real woman working', 'conservative intelligent woman take day day without woman', 'youve got strong grip girl', 'time get walk like man', 'act like lady think like man', 'look like girl act like lady think like man work like bos', 'man would worded sentence twice good', 'woman meant loved understood', 'going create restaurant called sandwich world going hire woman', 'act like lady think like man', 'impossible girl faithful', 'covered girl better cover girl', 'truly day without woman renamed day without cry baby feminist respectable lady real life acknowledge', 'u know abcdefg mean boy everything girl reverse gfedcba mean girl forget everything done catch new boy', 'sorry real woman show commitment', 'dont care hard think cant act like man one respect', 'lot female try think like man avoid getting hurt instead woman take chance love', 'thats right course think promotes hatred towards good man man never good principled', 'youre cute always look like man definitely positive aspect', 'man marries good woman happy life long ambitious quiet obedient', 'nothing destroy man productivity like love woman', 'six foot two inch tall girl wow', 'good wife know doesnt matter managerial job long best man job iwd2017', 'got ta act like woman think like man', 'girl cry guy mean really miss guy cry girl nobody love girl', 'woman territorial kitchen kinda like man garage', 'youre abnormally tall girl', 'stop calling pretty hot youre saying million time doesnt make either', 'theyre dumb blonde perhaps delusion adequacy', 'stop saying dumb blonde pretty face need pretty face pull', 'jus going say dumb bitch', 'wait back shot nikki shes wearing blue knickers', 'hot blonde hot average', 'responsible convincing girl pretty', 'girl going fucked sucking colins cock', 'girl pretty awful', 'watch five minute stuck idiotic hooker ill neck', 'gosh dislike two girl arent hot either', 'theyre staying producer showdown posh bitch', 'seeing two think modelling competition give two score negative ten look', 'sassy girl arent sassy like bitchy', 'ive finally figured model camel toe', 'question pretty', 'youve proved two blonde fucked face', 'way girl staying blow every bloke room theyre still shot', 'seven percent hearing loss result sitting restaurant next table full woman received dessert', 'word processor technical skanky hoe', 'perhaps girl spent le time looking kissing mirror time preparation meeting theyd better', 'hope blonde cow dont make', 'yeah cant see sporting victoria secret wing anytime soon', 'two blonde skinny enough model', 'two take dumb blonde new level', 'girl claiming theyre hot generally overinflated view', 'annie look like mouse', 'youre sort bitch really make show', 'oh god slut going get', 'think nikki katies modesty made appealing', 'blonde chick gone yay', 'bless still think hot', 'face pulled hideous', 'im going gouge eye bitch doesnt get', 'phoebe change face', 'one rare piece trash get even uglier smile', 'victoria biggest bitch around', 'want slap stupid smirk face horrible cow', 'actually liked tonight though always look like hair pulled back tight', 'slapping would thigh walk celine', 'celina elephant people finally come', 'someone give slap across head', 'really nasty piece work honest', 'need witch hat', 'every time see face feel like puking', 'true feminism also getting free stuff using benevolent sexism advantage', 'woman exploited make calculated choice use sex advance career', 'yeah rape culture lie true', 'ill use little girl except insult preteen female comparing feminist', 'feminist think hating men feminism', 'son much greater risk daughter feminist law', 'fired yet male writer newspaper usually get fired much le', 'hit way wearing would okay', 'men woman equal legal right definitely', 'sucking math logic requirement feminism', 'seem like nice girl ask u dig little deeper subject matter', 'might need lube tip wider hip', 'know little sister severely overvaluing', 'dude cry girl wedding dress vagina', 'ive seen really dumb girl lend credibility argument', 'pack girl skateboarding might weirdest thing ive ever seen', 'actually prefer guy charge atmosphere definitely laid back fun woman serious', 'woman cant play football', 'dont ever let woman drive theyll break arm', 'usually walk away woman sport announcer sportscenter', 'dear woman nagging work', 'come let real agree men superior', 'please woman commit man commit gym well commit kitchen', 'female sport anchor worst make uncomfortable woman know sport', 'give girl street clothes expect go home iron', 'pay bill household least', 'woman seriously awful driver', 'honestly woman announcing football aggravating', 'everything seems woman woman woman', 'woman comedian arent funny case closed', 'test like woman hard understand easy get nonrefundable', 'woman never allowed talk sport tv', 'find female sportscaster really annoying', 'hold firm belief woman shouldnt allowed drive need explain', 'see woman men wearhouse today calling police', 'woman piss', 'woman damn stubborn', 'woman sport reporter always look like idea', 'hate girl always made victim', 'go auto place id rather talk guy', 'trust girl gun store', 'need woman laundry', 'woman comedian suck', 'im voting lady', 'sight girl smoking unpleasant', 'people would satisfied president woman', 'woman scored great goal mean woman football good', 'blond want', 'really dont like female country singer', 'dont like girl who overly football', 'sometimes look female ponder id offer goat full sack potato hand', 'girl wear earring look wrong guy', 'woman cant drive', 'cant stand woman commentator football', 'believe woman hold different standard guy like carry', 'male comedian much funnier female one', 'dont respect anything girl say football sport', 'ive genuinely never actually met funny girl', 'hate female sport analyst swear look stat sheet state obvious', 'offence anyone woman poor driver', 'exactly woman look like', 'woman stop pretending make difference politics', 'girl go without makeup thats probably super scary', 'rt lucasrobson09 cant deal woman football announcer doesnt sound right', 'dont think woman announce football game', 'girl allowed commentator football game', 'girl shave matter month', 'another woman prime minister look going', 'woman easily confused', 'sitting plane ready leave female captain come speaker id probably leave immediately', 'stand female reporter men sport', 'mean woman barking office one kneeling submitting bedroom', 'call old fashioned feel woman need know throw kitchen man provides', 'girl come sign must tall ride emotional rollercoaster', 'every girl sad boy', 'im sexist im realist', 'there something woman playing rugby really doesnt look right', 'girl riding bike looked weird', 'im sexist calling cunt youre offended called really angry', 'stuff girl write put social network evidence men smarter', 'think doctor stick male', 'certain thing woman cant tell nothing', 'female manager think god greatest creation way power hungry lot need chill', 'think general men make way better music', 'dont think wan na see woman president stage life', 'isnt sexist youre right', 'sexual assault broad term', 'must say woman worst driver', 'swear im sexist way many female driver town', 'something isnt right woman calling football game', 'bother anyone us foul language come girl mouth seems ten time worse keep clean', 'refuse watch football game woman referee', 'men superior woman', 'watching girl basketball usually make want shoot head', 'reading social advancement woman boring', 'really dont like womanly job', 'really dont feel comfortable female barber cut hair ever', 'prefer male professor female', 'dont agree woman sport show talk solely men sport', 'im talking football girl weird', 'sexist joke funny', 'able cook one attractive quality woman', 'ill take woman cook one cant day', 'cant talk sport female', 'woman good high fiving', 'dont feel safe driving girl', 'wife nine five job', 'get back kitchen slut', 'im sexist call fat please', 'really hope dont daughter', 'statement men driver better woman correct every way', 'son whatever want daughter much', 'female comedian arent funny', 'hard watching game female commentator', 'really stand woman sportscaster sorry', 'woman ever allowed announce football game know place', 'majority bad driver woman right', 'real lady respect traditional value men men woman woman', 'lot people call sexist people woman opinion dont matter', 'extremely hard listen female vocalist', 'feminist piss', 'hate girl bad mood im trying say hate girl', 'hate girl think theyre really hot get different person every week', 'think male comedian funnier female one', 'woman tend late every event regardless race probably gene', 'woman burkhahs scare totally', 'holy shit woman driver awful', 'hate woman commentary sport', 'woman football commentator annoy much never shut', 'men always superior driver', 'football isnt meant woman', 'id prefer making sandwich instead presenting product', 'lady youve slept around price go know true', 'bitch drive', 'come learning prefer male favorite teacher male', 'woman football make feel sick', 'woman really bad driver sorry truth', 'hate serving woman theyre unbelievanly fussy drink', 'one thing care le soccer woman soccer', 'swear god like two percent woman population london know drive properly', 'feminist make sick go fighting equality sorry', 'find hearty handshake two woman awkward', 'word lady short skirt short summer thanks', 'dont care pakistani girl know make roti', 'hate hear girl argue sport', 'dont like woman commentator men sport', 'im sexist damn best joke', 'cant enjoy game much woman announcer calling', 'girl cheering team think one player hot need get back kitchen', 'rt sensip40 broken lady younger generation fail description one way another men feminine dã¢â‚¬â¦', 'wow youre huge asshole jontaylorr im sexist woman football paralympics', 'judging username alone yeah skateparkslut im sexist really dislike majority teenage girl', 'typical female want everything', 'vast majority woman know pure evil', 'stereotype yet prove wrong woman driver', 'female ever gon na tell including mom', 'couldnt agree robert never found female comedian funny', 'richard right danica male one would notice', 'female rapping automatically dislike song', 'would never vote girl president', 'call sexist want cant cook become le attractive', 'ive yet see funny female comedian', 'generally clever funny relatable without ruining girly', 'think prefer male voice female voice sound normal', 'dont believe girl clue', 'love watch woman fat ass walk away', 'feel much safer male driving instead female honest', 'im sexist cant bossy bitch', 'hate guy lack masculinity worst', 'woman musician suck', 'woman never let go', 'want intelligent hang men', 'every time olivia talk meeting wan na slap', 'doesnt dad life future stripper america making', 'woman want man treat like princess world fuck like whore', 'woman complicated best try understand', 'feel like suit men', 'need female personal assistant sexy', 'respect female opinion entertain subject', 'girl playing football park guy look somewhat unnatural', 'arnab woman cant stop talking', 'emotion get way woman far often im sexist im stating see fact', 'sorry sound crude moment even ramona as didnt make meeting worth attending', 'girl man relationship', 'happens men smarter naturally', 'find really weird seeing woman meeting full guy', 'agree gender role dick dont gender', 'believe men provide family woman stay home take care kid', 'woman reckless driver', 'woman shouldnt rap gross', 'woman work construction', 'woman act plain stupid hundred year fighting equality youre gon na play dumb', 'girl beg wear something like dont get uptight see guy looking', 'stop feminist struggle attracting sex stop starting drama', 'sister woman asian worst driver america', 'im going say woman cant park', 'think woman jealous inferior', 'dont believe gender equality', 'havent met single female driver thats good parking', 'whats point cleaning lady mom sister', 'also note man wear fake tan isnt man', 'lady please stop talking football dont talk cooking', 'dont believe woman boss', 'beyond comprehension girl horrible geography', 'im saying woman cant great leader weak fact incredibly deceptive', 'male led empire usually fall due listening wife often mom show really running thing', 'hold youre taking way personally', 'ew mattyclark going social club since 12 see woman main bar mad like right notsexist', 'believe men woman role house', 'meet shes funny', 'really dont get girl like completely incompetent kitchen', 'want girl thats going cook clean ill take care everything else', 'hennessy definitely drink men', 'never met woman drive well thats none business', 'woman something notable besides give birth ill give acknowledgement deserve', 'whats wrong america period arent excuse go home early', 'im afraid hit girl fact plan', 'lot leg meeting today guess u guy approve', 'girl mad world reason', 'company taken seriously michelle become executive', 'shoudnt get panty bunch', 'woman dont make laugh like whip tit something entertaining', 'vagina dont try funny', 'evident woman cant man job come tennis coaching', 'damn girl recruit group', 'ever get woman president im quitting organization', 'female manager retarded overall useless', 'girl age drive super scary', 'female business commentating football like man conducting child birthing class', 'los angeles woman bitchy', 'im firm believer man setting tone relationship', 'woman sport reporter cant listen even think information credible', 'want equality learn pull woman card', 'watch football game female announcer dont know', 'woman behind wheel vehicle', 'thing girl shouldnt', 'much job lady', 'im sure listen woman giving direction', 'hate snobby woman dont know place front men im venting', 'dont see pilot license rennie93 female struggle driving car yet one flying plane notsexist justhonest', 'refuse watch football game woman commentating im sexist people dont belong thing', 'last time heard someone break pretty quiet girl lighten', 'woman shave goddamn leg', 'like woman homebody housewife', 'agree woman bathroom much worse men think', 'lady terrible manager shes lady though shes stupid bitch', 'woman really stupid offense', 'dont go around saying woman run world men literally run', 'guy never going live losing girl product pitch competition', 'majority girl useless group project majority', 'dont like movie woman main role', 'youre female bartender agree certain gender standard', 'zero female know arent stupid way another dont listen', 'woman get wreck im surprised', 'hey baby dont act like whiny bitch', 'lady seriously stop putting cell phone back pocket attractive detracts booty', 'dont intend wife working woman call sexist', 'food gender specific please dont want woman mixing shawarma', 'sorry honey cant control much love big butt', 'know im man men dont really listen woman speak', 'gender role definitely accepted respected', 'always female expect read mind', 'say certainty havent intelligent conversation female thirty', 'girl cant sing country well guy', 'remind woman allowed opinion', 'girl dont know shit sport come football repeat anything dad say', 'woman feeling change moment without notice', 'many men take mop floor none thats woman work', 'free blindfold ptierney1992 im sexist dont wan na watch woman talk sport', 'way girl keeping job blow every dude room', 'secretary must think like man act like lady look like girl work like dog', 'see girl marry realize must hate work living', 'men allowed passion commitment work woman allowed feeling man work', 'doesnt enough work around probably shes woman', 'ugly woman lazy one', 'vagina uneducated woman diploma']\n"
          ]
        }
      ],
      "source": [
        "\n",
        "        ### Splitting Dtrain ###\n",
        "DtrainPos = splitData(1, Dtrain, Dlabels)\n",
        "print(DtrainPos)\n",
        "DtrainNeg = splitData(0, Dtrain, Dlabels)\n",
        "######## Converting for LR input ########\n",
        "AvgScoreNgram = []\n",
        "AvgScoreTFIDF = []\n",
        "AvgScoreGlove = []\n",
        "\n",
        "\n",
        "  # clf = LogisticRegression(random_state=0, max_iter=10000).fit(Xtrain, Ytrain)\n",
        "  # y_pred = clf.predict(Xtest)\n",
        "  # print('BestAccuracy: %s' % accuracy_score(y_pred, Ytest))\n",
        "  # print('Best F1 score: %s' % f1_score(y_pred, Ytest))\n",
        "\n",
        "\n",
        "\n",
        "  "
      ]
    },
    {
      "cell_type": "code",
      "execution_count": null,
      "metadata": {
        "id": "tNoB3Sou8dDF"
      },
      "outputs": [],
      "source": [
        "AvgScoreNgram = []\n",
        "for i in range(55): #### Do this for however many points you want to graph (i.e Data set sizes) Then Choose if you want Ngrams TFIDF or Glove Model - Need to change preprocessing accordingly\n",
        "          ### Ngrams ###\n",
        "  Xtrain, Xtest, Ytrain, Ytest, AvgScore = NgramModel(Dtrain, Dlabels, 20, i*16+20) # (Dtrain, Dlabels, Iterations, Training set size)\n",
        "  print('Avg F1 Score: %s' % AvgScore)\n",
        "  AvgScoreNgram.append(AvgScore)\n",
        "          ### Ngrams ###\n",
        "\n",
        "\n"
      ]
    },
    {
      "cell_type": "code",
      "execution_count": null,
      "metadata": {
        "id": "-LjplWHb8fBV"
      },
      "outputs": [],
      "source": [
        "AvgScoreTFIDF = []\n",
        "for i in range(55):\n",
        "          ### TFIDF ### \n",
        "  Xtrain1, Xtest1, Ytrain1, Ytest1, AvgScore1 = tfidfModel(Dtrain, Dlabels, 20, (i*16)+20) # (Dtrain, Dlabels, Iterations, Training set size)\n",
        "  print('Avg F1 Score: %s' % AvgScore1)\n",
        "  AvgScoreTFIDF.append(AvgScore1)\n",
        "          ### TFIDF ###\n",
        "\n"
      ]
    },
    {
      "cell_type": "code",
      "execution_count": null,
      "metadata": {
        "id": "VSYE9QWq8gty"
      },
      "outputs": [],
      "source": [
        "AvgScoreGlove = []\n",
        "for i in range(55):\n",
        "          ### Glove ###\n",
        "  Xtrain2, Xtest2, Ytrain2, Ytest2, AvgScore2 = GloveModel(DtrainGlove, Dlabels, model, 20, i*16+20) # (Dtrain, Dlabels, Iterations, Training set size)\n",
        "  print('Avg F1 Score: %s' % AvgScore2)\n",
        "  AvgScoreGlove.append(AvgScore2)\n",
        "          ### Glove ###"
      ]
    },
    {
      "cell_type": "markdown",
      "metadata": {
        "id": "7w8vyjvV7y8k"
      },
      "source": [
        ""
      ]
    },
    {
      "cell_type": "code",
      "execution_count": null,
      "metadata": {
        "colab": {
          "base_uri": "https://localhost:8080/",
          "height": 295
        },
        "id": "YNtF-NOm9-SR",
        "outputId": "2a587813-c95c-490a-c159-2c177f95e6f0"
      },
      "outputs": [
        {
          "output_type": "display_data",
          "data": {
            "image/png": "[encoded data removed]",
            "text/plain": [
              "<Figure size 432x288 with 1 Axes>"
            ]
          },
          "metadata": {
            "needs_background": "light"
          }
        }
      ],
      "source": [
        "\n",
        "Xaxis = []\n",
        "for i in range(55):\n",
        "  Xaxis.append(i*16+20)\n",
        "plt.plot(Xaxis, AvgScoreNgram, label = 'N-Grams') # plotting by columns\n",
        "plt.plot(Xaxis, AvgScoreTFIDF, label = 'TFIDF')\n",
        "plt.plot(Xaxis, AvgScoreGlove, label = 'GloVe')\n",
        "\n",
        "plt.legend()\n",
        "plt.xlabel(\"Training Sample Size\")\n",
        "plt.ylabel(\"F1 Score\")\n",
        "plt.title(\"Comparing Logistic Regression Models\")\n",
        "plt.savefig(\"High resoltion.png\",dpi=600)\n",
        "plt.show()"
      ]
    },
    {
      "cell_type": "markdown",
      "metadata": {
        "id": "2J2I7k2KxcRS"
      },
      "source": [
        "\n",
        "\n",
        "---\n",
        "\n",
        "\n",
        "**NAIVE BAYES IMPLEMENTATION**\n",
        "\n",
        "---\n",
        "\n"
      ]
    },
    {
      "cell_type": "markdown",
      "metadata": {
        "id": "fWb7LLKixrv0"
      },
      "source": [
        "Naive Bayes Model, pretty much the same as LR. Still need to add GLove but not sure we need it."
      ]
    },
    {
      "cell_type": "markdown",
      "metadata": {
        "id": "8xSjSD15s7Xt"
      },
      "source": [
        "NGRAM MODEL FOR NAIVE BAYES"
      ]
    },
    {
      "cell_type": "code",
      "execution_count": null,
      "metadata": {
        "id": "Plesx0N8q65l"
      },
      "outputs": [],
      "source": [
        "def NgramModelNB(Dtrain, Dlabels, iter, TrainSize):\n",
        "    BestX = []\n",
        "    bestPred = 0\n",
        "    DtrainPos = splitData(1, Dtrain, Dlabels)\n",
        "    DtrainNeg = splitData(0, Dtrain, Dlabels)\n",
        "    ### Converting for LR input ###\n",
        "    Dtrain = np.concatenate((np.array(DtrainPos), np.array(DtrainNeg)), axis=0)\n",
        "    Dtrain = Dtrain.tolist()\n",
        "    vectorizer1 = CountVectorizer(ngram_range=(1, 5))\n",
        "    vectorizer1 = CountVectorizer()\n",
        "    AvgScore = 0\n",
        "    for i in range(iter):\n",
        "        vectorizer1.fit(Dtrain)\n",
        "        vector1 = vectorizer1.transform(Dtrain)\n",
        "        X = vector1.toarray()\n",
        "        Xtrain, Xtest, Ytrain, Ytest = train_test_split(X, [1] * len(DtrainPos) + [0] * len(DtrainNeg), test_size=0.20)\n",
        "        Xtrain, Ytrain = ScaleTrainSet(Xtrain, Ytrain, TrainSize)\n",
        "        ### LR Model ###\n",
        "                ### NB Model ###\n",
        "        gnb = GaussianNB()\n",
        "        gnb.fit(Xtrain, Ytrain)\n",
        "        \n",
        "        #predScore = gnb.score(Xtest, Ytest)\n",
        "        y_pred = gnb.predict(Xtest)\n",
        "        predScore = f1_score(y_pred, Ytest)\n",
        "        \n",
        "        AvgScore =  AvgScore + predScore\n",
        "        #predScore = accuracy_score(y_pred, Ytest)\n",
        "        \n",
        "        if predScore > bestPred:\n",
        "            bestPred = predScore\n",
        "            BestX = [Xtrain, Xtest, Ytrain, Ytest] \n",
        "            #print('Logistic Regression F1 Score: %s' % f1_score(y_pred, Ytest))\n",
        "            #print('Logistic Regression accuracy: %s' % accuracy_score(y_pred, Ytest))\n",
        "    AvgScore = AvgScore/iter\n",
        "    return BestX[0],BestX[1],BestX[2],BestX[3], AvgScore"
      ]
    },
    {
      "cell_type": "code",
      "execution_count": null,
      "metadata": {
        "colab": {
          "base_uri": "https://localhost:8080/"
        },
        "id": "Pg8vv4y4W6vd",
        "outputId": "958db23e-4e9f-4757-a544-4ab63bb0046c"
      },
      "outputs": [
        {
          "output_type": "stream",
          "name": "stdout",
          "text": [
            "Mounted at /content/drive\n"
          ]
        }
      ],
      "source": [
        "from google.colab import drive\n",
        "drive.mount('/content/drive')"
      ]
    },
    {
      "cell_type": "markdown",
      "metadata": {
        "id": "81iscmlos_rF"
      },
      "source": [
        "TFIDF MODEL FOR NAIVE BAYES"
      ]
    },
    {
      "cell_type": "code",
      "execution_count": null,
      "metadata": {
        "id": "SEOh5ggdrKIh"
      },
      "outputs": [],
      "source": [
        "def tfidfModelNB(Dtrain, Dlabels, iter, TrainSize):\n",
        "    BestX = []\n",
        "    bestPred = 0\n",
        "    DtrainPos = splitData(1, Dtrain, Dlabels)\n",
        "    DtrainNeg = splitData(0, Dtrain, Dlabels)\n",
        "    ### Converting for LR input ###\n",
        "    Dtrain = np.concatenate((np.array(DtrainPos), np.array(DtrainNeg)), axis=0)\n",
        "    Dtrain = Dtrain.tolist()\n",
        "    tf_idf = TfidfVectorizer()\n",
        "    tf_idf.fit(Dtrain)\n",
        "    vector = tf_idf.transform(Dtrain)\n",
        "    X = vector.toarray()\n",
        "    AvgScore = 0\n",
        "    for i in range(iter):\n",
        " \n",
        "        Xtrain, Xtest, Ytrain, Ytest = train_test_split(X, [1] * len(DtrainPos) + [0] * len(DtrainNeg), test_size=0.20)\n",
        "        Xtrain, Ytrain = ScaleTrainSet(Xtrain, Ytrain, TrainSize)\n",
        "        ### NB Model ###\n",
        "        gnb = GaussianNB()\n",
        "        gnb.fit(Xtrain, Ytrain)\n",
        "        \n",
        "        #predScore = gnb.score(Xtest, Ytest)\n",
        "        y_pred = gnb.predict(Xtest)\n",
        "        predScore = f1_score(y_pred, Ytest)\n",
        "        AvgScore =  AvgScore + predScore\n",
        "\n",
        "        # print('Accuracy: %s' % accuracy_score(y_pred, Ytest))\n",
        "        if predScore > bestPred:\n",
        "            bestPred = predScore\n",
        "            BestX = [Xtrain, Xtest, Ytrain, Ytest]\n",
        "            #print('Logistic Regression F1 Score: %s' % f1_score(y_pred, Ytest))\n",
        "            #print('Logistic Regression accuracy: %s' % accuracy_score(y_pred, Ytest))\n",
        "    AvgScore = AvgScore/iter\n",
        "    return BestX[0],BestX[1],BestX[2],BestX[3], AvgScore"
      ]
    },
    {
      "cell_type": "code",
      "source": [
        "def GloveModelNB(Dtrain, Dlabels, model, iter, TrainSize):\n",
        "    BestX = []\n",
        "    bestPred = 0\n",
        "    DtrainPos = splitData(1, Dtrain, Dlabels)\n",
        "    DtrainNeg = splitData(0, Dtrain, Dlabels)\n",
        "    Dtrain = np.concatenate((np.array(DtrainPos), np.array(DtrainNeg)), axis=0)\n",
        "    Dtrain = Dtrain.tolist() \n",
        "          ## Glove ###\n",
        "    word_to_index, index_to_word, word_to_vec_map = read_glove_vecs(\"/content/drive/MyDrive/COMP550 Final Project/glove.6B.50d.txt\")\n",
        "    vectorizer = Word2VecVectorizer(model) #### Creating Vectorizer i.e converting word embeddings to LR input\n",
        "\n",
        "    AvgScore = 0\n",
        "    for i in range(iter):\n",
        "      Xtrain, Xtest, Ytrain, Ytest = train_test_split(Dtrain, [1] * len(DtrainPos) + [0] * len(DtrainNeg), test_size=0.20)\n",
        "      # Sentence Averaging\n",
        "      for i, sent in enumerate(Xtrain):\n",
        "        avg = sentenceAvg(sent, word_to_vec_map)\n",
        "        #print(avg)\n",
        "        Xtrain[i] = avg\n",
        "\n",
        "  # Get the sentence embeddings for the test dataset\n",
        "      Xtest = vectorizer.transform(Xtest)\n",
        "  ### Converting for LR input ###\n",
        "      ### Scaling to TrainingSets to TrainSize\n",
        "      Xtrain, Ytrain = ScaleTrainSet(Xtrain, Ytrain, TrainSize)\n",
        "      ### NB Model ###\n",
        "      gnb = GaussianNB()\n",
        "      gnb.fit(Xtrain, Ytrain)\n",
        "        \n",
        "        #predScore = gnb.score(Xtest, Ytest)\n",
        "      y_pred = gnb.predict(Xtest)\n",
        "      predScore = f1_score(y_pred, Ytest)\n",
        "      AvgScore =  AvgScore + predScore\n",
        "      \n",
        "      if predScore > bestPred: ### Don't really need this for what we do but if you wan't to find the best Xtrain Split this will give it to you\n",
        "          bestPred = predScore\n",
        "          BestX = [Xtrain, Xtest, Ytrain, Ytest] \n",
        "          #print('Logistic Regression F1 Score: %s' % f1_score(y_pred, Ytest))\n",
        "          #print('Logistic Regression accuracy: %s' % accuracy_score(y_pred, Ytest))\n",
        "    AvgScore = AvgScore/iter\n",
        "    return BestX[0],BestX[1],BestX[2],BestX[3], AvgScore\n",
        "    "
      ],
      "metadata": {
        "id": "jtcVkmE5xkyE"
      },
      "execution_count": null,
      "outputs": []
    },
    {
      "cell_type": "markdown",
      "metadata": {
        "id": "_aKGOUunvBxb"
      },
      "source": [
        "**NAIVE BAYES MAIN**"
      ]
    },
    {
      "cell_type": "code",
      "execution_count": null,
      "metadata": {
        "id": "kBMMOVfBFI_l"
      },
      "outputs": [],
      "source": [
        "\n",
        "\n",
        "AvgScoreNgramNB = []\n",
        "for i in range(55): #### Do this for however many points you want to graph (i.e Data set sizes) Then Choose if you want Ngrams TFIDF or Glove Model - Need to change preprocessing accordingly\n",
        "          ### Ngrams ###\n",
        "  Xtrain, Xtest, Ytrain, Ytest, AvgScore = NgramModelNB(Dtrain, Dlabels, 20, i*16+20) # (Dtrain, Dlabels, Iterations, Training set size)\n",
        "  print('Avg F1 Score: %s' % AvgScore)\n",
        "  AvgScoreNgramNB.append(AvgScore)\n",
        "          ### Ngrams ###\n",
        "print(AvgScoreNgramNB)"
      ]
    },
    {
      "cell_type": "code",
      "execution_count": null,
      "metadata": {
        "id": "3Yw5guYBIyyb"
      },
      "outputs": [],
      "source": [
        "AvgScoreTFIDFNB = []\n",
        "for i in range(55):\n",
        "          ### TFIDF ### \n",
        "  Xtrain1, Xtest1, Ytrain1, Ytest1, AvgScore1 = tfidfModelNB(Dtrain, Dlabels, 20, i*16+20) # (Dtrain, Dlabels, Iterations, Training set size)\n",
        "  print('Avg F1 Score: %s' % AvgScore1)\n",
        "  AvgScoreTFIDFNB.append(AvgScore1)\n",
        "          ### TFIDF ###\n",
        "print(AvgScoreTFIDFNB)"
      ]
    },
    {
      "cell_type": "code",
      "source": [
        "AvgScoreGloveNB= []\n",
        "for i in range(55):\n",
        "          ### Glove ### \n",
        "  Xtrain2, Xtest2, Ytrain2, Ytest2, AvgScore2 = GloveModelNB(DtrainGlove, Dlabels, model, 20, i*16+20) # (Dtrain, Dlabels, Iterations, Training set size)\n",
        "  print('Avg F1 Score: %s' % AvgScore2)\n",
        "  AvgScoreGloveNB.append(AvgScore2)\n",
        "          ### Glove ###\n",
        "print(AvgScoreGloveNB)"
      ],
      "metadata": {
        "id": "jQu7TM66yBR4"
      },
      "execution_count": null,
      "outputs": []
    },
    {
      "cell_type": "markdown",
      "source": [
        "Getting Vanilla and MAML Results from MAML and Vanilla Bi-LSTM Experimentation notebook. "
      ],
      "metadata": {
        "id": "l6IHy-FcoeH-"
      }
    },
    {
      "cell_type": "code",
      "execution_count": null,
      "metadata": {
        "colab": {
          "base_uri": "https://localhost:8080/",
          "height": 295
        },
        "id": "5hJslmI0H-_C",
        "outputId": "86e17a11-996a-45a2-ed89-037edebc0d10"
      },
      "outputs": [
        {
          "output_type": "display_data",
          "data": {
            "image/png": "[encoded data removed]",
            "text/plain": [
              "<Figure size 432x288 with 1 Axes>"
            ]
          },
          "metadata": {
            "needs_background": "light"
          }
        }
      ],
      "source": [
        "VanillaSTMResults = [0.4473684210526316, 0.4473684210526316, 0.4473684210526316, 0.5263157894736842, 0.5394736842105263, 0.5526315789473685, 0.5526315789473685, 0.5526315789473685, 0.5526315789473685, 0.5526315789473685, 0.5526315789473685, 0.5526315789473685, 0.5526315789473685, 0.5526315789473685, 0.5526315789473685, 0.5526315789473685, 0.5526315789473685, 0.5526315789473685, 0.5526315789473685, 0.5526315789473685, 0.5526315789473685, 0.5526315789473685, 0.5526315789473685, 0.5526315789473685, 0.5526315789473685, 0.5526315789473685, 0.5526315789473685, 0.5526315789473685, 0.5526315789473685, 0.5526315789473685, 0.5526315789473685, 0.5526315789473685, 0.5526315789473685, 0.5526315789473685, 0.5570175438596491, 0.5570175438596491, 0.5570175438596491, 0.5570175438596491, 0.5614035087719298, 0.5745614035087719, 0.5877192982456141, 0.5921052631578947, 0.6271929824561403, 0.6578947368421053, 0.7105263157894737, 0.7324561403508771, 0.7543859649122807, 0.7631578947368421, 0.7587719298245614, 0.7587719298245614, 0.7587719298245614, 0.75, 0.7456140350877193, 0.7456140350877193, 0.7368421052631579, 0.75, 0.7543859649122807, 0.75, 0.7368421052631579, 0.7105263157894737, 0.6754385964912281, 0.6491228070175439, 0.6491228070175439, 0.6710526315789473, 0.706140350877193, 0.7149122807017544, 0.7324561403508771, 0.75, 0.7587719298245614, 0.7631578947368421, 0.7719298245614035, 0.7807017543859649, 0.7675438596491229, 0.7631578947368421, 0.7631578947368421, 0.7719298245614035, 0.7675438596491229, 0.7719298245614035, 0.7807017543859649, 0.7719298245614035, 0.7719298245614035, 0.7543859649122807, 0.7587719298245614, 0.7631578947368421, 0.7675438596491229, 0.7763157894736842, 0.7894736842105263, 0.7850877192982456, 0.7982456140350878, 0.7894736842105263, 0.7982456140350878, 0.7850877192982456, 0.7894736842105263, 0.7719298245614035, 0.7719298245614035, 0.7763157894736842, 0.7763157894736842, 0.7807017543859649, 0.7894736842105263, 0.8026315789473685, 0.8114035087719298, 0.8157894736842105, 0.8201754385964912, 0.7982456140350878, 0.7982456140350878, 0.7982456140350878, 0.8026315789473685, 0.8026315789473685, 0.8026315789473685, 0.7894736842105263, 0.7807017543859649, 0.7719298245614035, 0.7631578947368421, 0.7631578947368421, 0.7631578947368421, 0.7763157894736842, 0.7894736842105263, 0.7982456140350878, 0.8157894736842105, 0.8157894736842105, 0.8333333333333334, 0.8333333333333334, 0.8421052631578947, 0.8421052631578947, 0.8377192982456141, 0.8508771929824561, 0.8377192982456141, 0.8289473684210527, 0.8157894736842105, 0.8245614035087719, 0.8333333333333334, 0.8289473684210527, 0.8289473684210527, 0.8289473684210527, 0.8333333333333334, 0.8333333333333334, 0.8289473684210527, 0.8333333333333334, 0.8201754385964912, 0.8245614035087719, 0.8377192982456141, 0.8333333333333334, 0.8333333333333334, 0.8377192982456141, 0.8377192982456141, 0.8245614035087719, 0.8289473684210527, 0.8333333333333334, 0.8421052631578947, 0.8421052631578947, 0.8377192982456141, 0.8421052631578947, 0.8421052631578947, 0.8552631578947368, 0.8508771929824561, 0.8421052631578947, 0.8289473684210527, 0.8245614035087719, 0.8201754385964912, 0.8289473684210527, 0.8464912280701754, 0.8552631578947368, 0.8508771929824561, 0.8464912280701754, 0.8421052631578947, 0.8508771929824561, 0.8552631578947368, 0.8464912280701754, 0.8464912280701754, 0.8421052631578947, 0.8421052631578947, 0.8333333333333334, 0.8289473684210527, 0.8289473684210527, 0.8421052631578947, 0.8421052631578947, 0.8421052631578947, 0.8421052631578947, 0.8333333333333334, 0.8377192982456141, 0.8377192982456141, 0.8377192982456141, 0.8464912280701754, 0.8464912280701754, 0.8377192982456141, 0.8421052631578947, 0.8333333333333334, 0.8333333333333334, 0.8289473684210527, 0.8245614035087719, 0.8245614035087719, 0.8245614035087719, 0.8245614035087719, 0.8201754385964912, 0.8245614035087719, 0.8289473684210527, 0.8289473684210527, 0.8289473684210527, 0.8289473684210527, 0.8245614035087719, 0.8157894736842105, 0.8201754385964912, 0.8157894736842105, 0.8245614035087719, 0.8245614035087719, 0.8245614035087719, 0.8289473684210527, 0.8289473684210527, 0.8333333333333334, 0.8421052631578947, 0.8377192982456141, 0.8377192982456141, 0.8333333333333334, 0.8421052631578947, 0.8421052631578947, 0.8508771929824561, 0.8464912280701754, 0.8289473684210527, 0.8157894736842105, 0.8157894736842105, 0.8333333333333334, 0.8421052631578947, 0.8377192982456141, 0.8421052631578947, 0.8333333333333334, 0.8333333333333334, 0.8333333333333334, 0.8421052631578947, 0.8421052631578947, 0.8421052631578947, 0.8421052631578947, 0.8421052631578947, 0.8377192982456141, 0.8377192982456141, 0.8201754385964912, 0.793859649122807, 0.8070175438596491, 0.8114035087719298, 0.8070175438596491, 0.8026315789473685, 0.8026315789473685, 0.8026315789473685, 0.8026315789473685, 0.8026315789473685, 0.8157894736842105, 0.8245614035087719, 0.8070175438596491, 0.8026315789473685, 0.8201754385964912, 0.8421052631578947, 0.8508771929824561, 0.8552631578947368, 0.8421052631578947, 0.8377192982456141, 0.8377192982456141]\n",
        "MAMLResults = [0.42910448, 0.35535229, 0.36141427, 0.36969924, 0.36987318,\n",
        " 0.3713564,  0.39156177, 0.41734527, 0.44928403, 0.46864635, 0.50596575,\n",
        " 0.53551255, 0.55064883, 0.55379086, 0.5657793,  0.57914673, 0.60930502,\n",
        " 0.63262368, 0.65442201, 0.67540844, 0.69057654, 0.70224785, 0.71342482,\n",
        " 0.71979762, 0.72713286, 0.73206155, 0.73408508, 0.73155086, 0.72939153,\n",
        " 0.73860157, 0.7502201,  0.75834702, 0.75722663, 0.76808535, 0.77135428,\n",
        " 0.77312984, 0.7740657,  0.77394344, 0.77870113, 0.7861848,  0.79278435,\n",
        " 0.79644605, 0.79348396, 0.78834674, 0.78902731, 0.78895782, 0.78958453,\n",
        " 0.78755946, 0.79244701, 0.78777413, 0.78170083, 0.7852291,  0.78888913,\n",
        " 0.786913,   0.79802924]\n",
        "VanillaResults =  [0.54586405, 0.56168224, 0.63894231, 0.60491228, 0.62628751,\n",
        " 0.67359618, 0.66319048, 0.70098784, 0.70216076, 0.68037099, 0.67892157,\n",
        " 0.68178603, 0.68636534, 0.69073411, 0.69315518, 0.69974555, 0.70151515,\n",
        " 0.70068885, 0.68258721, 0.67530539, 0.69361226, 0.70956265, 0.70979021,\n",
        " 0.73225152, 0.7254765,  0.7445884,  0.75179252, 0.76756757, 0.75981729,\n",
        " 0.77179487, 0.77504456, 0.77301062, 0.77142946, 0.77666256, 0.77814631,\n",
        " 0.77719201, 0.772855,   0.77542012, 0.77519507, 0.77377115, 0.76314873,\n",
        " 0.75635343, 0.75282904, 0.73293323, 0.71236055, 0.70877259, 0.69351951,\n",
        " 0.6864907,  0.68210526, 0.69418803, 0.69342604, 0.67014451, 0.6626902,\n",
        " 0.67767573, 0.69524135,]\n",
        "Xaxis = []\n",
        "for i in range(55):\n",
        "  Xaxis.append(i*16+20)\n",
        "# plt.plot(Xaxis, AvgScoreNgramNB, label = \"N-grams\") # plotting by columns\n",
        "# plt.plot(Xaxis, AvgScoreTFIDFNB, label = \"TFIDF\")\n",
        "# plt.plot(Xaxis, AvgScoreGloveNB, label = \"GloVe\")\n",
        "plt.plot(Xaxis, MAMLResults, label='MAML-Augmented Bi-LSTM')\n",
        "plt.plot(Xaxis, VanillaResults, label='Vanilla Bi-LSTM')\n",
        "plt.plot(Xaxis, AvgScoreGlove, label='Logistic Regresssion')\n",
        "plt.plot(Xaxis, AvgScoreGloveNB, label='Naive Bayes')\n",
        "plt.xlabel(\"Training Sample Size\")\n",
        "plt.ylabel(\"F1 Score\")\n",
        "plt.title(\"Comparing Simple Models (GloVe) with MAML-Augmented and Vanilla Bi-LSTMs\")\n",
        "plt.legend()\n",
        "#plt.title('Comparing Simple and Deep NN Models')\n",
        "plt.savefig(\"High resoltion.png\",dpi=600)\n",
        "plt.show()"
      ]
    }
  ],
  "metadata": {
    "colab": {
      "collapsed_sections": [],
      "name": "Logistic Regression and Naïve Bayes.ipynb",
      "provenance": []
    },
    "kernelspec": {
      "display_name": "Python 3",
      "name": "python3"
    },
    "language_info": {
      "name": "python"
    }
  },
  "nbformat": 4,
  "nbformat_minor": 0
}